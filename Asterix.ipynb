{
 "cells": [
  {
   "cell_type": "code",
   "execution_count": 7,
   "id": "551a1a19",
   "metadata": {},
   "outputs": [
    {
     "name": "stdout",
     "output_type": "stream",
     "text": [
      "Processing c:\\users\\dell\\downloads\\atari_py-1.2.2-cp38-cp38-win_amd64.whl\n",
      "Requirement already satisfied: numpy in c:\\users\\dell\\anaconda3\\lib\\site-packages (from atari-py==1.2.2) (1.18.5)\n",
      "atari-py is already installed with the same version as the provided wheel. Use --force-reinstall to force an installation of the wheel.\n",
      "Note: you may need to restart the kernel to use updated packages.\n"
     ]
    }
   ],
   "source": [
    "pip install atari_py-1.2.2-cp38-cp38-win_amd64.whl"
   ]
  },
  {
   "cell_type": "code",
   "execution_count": 10,
   "id": "070a5b6a",
   "metadata": {},
   "outputs": [
    {
     "name": "stdout",
     "output_type": "stream",
     "text": [
      "Collecting gym==0.19.0\n",
      "  Using cached gym-0.19.0-py3-none-any.whl\n",
      "Requirement already satisfied: numpy>=1.18.0 in c:\\users\\dell\\anaconda3\\lib\\site-packages (from gym==0.19.0) (1.18.5)\n",
      "Requirement already satisfied: cloudpickle<1.7.0,>=1.2.0 in c:\\users\\dell\\anaconda3\\lib\\site-packages (from gym==0.19.0) (1.6.0)\n",
      "Installing collected packages: gym\n",
      "Successfully installed gym-0.19.0\n",
      "Note: you may need to restart the kernel to use updated packages.\n"
     ]
    }
   ],
   "source": [
    "pip install gym==0.19.0"
   ]
  },
  {
   "cell_type": "code",
   "execution_count": 11,
   "id": "9e554b6c",
   "metadata": {},
   "outputs": [
    {
     "name": "stdout",
     "output_type": "stream",
     "text": [
      "Collecting piglet\n",
      "  Using cached piglet-1.0.0-py2.py3-none-any.whl (2.2 kB)\n",
      "Requirement already satisfied: piglet-templates in c:\\users\\dell\\anaconda3\\lib\\site-packages (from piglet) (1.2.0)\n",
      "Requirement already satisfied: attrs in c:\\users\\dell\\anaconda3\\lib\\site-packages (from piglet-templates->piglet) (20.3.0)\n",
      "Requirement already satisfied: markupsafe in c:\\users\\dell\\anaconda3\\lib\\site-packages (from piglet-templates->piglet) (1.1.1)\n",
      "Requirement already satisfied: astunparse in c:\\users\\dell\\anaconda3\\lib\\site-packages (from piglet-templates->piglet) (1.6.3)\n",
      "Requirement already satisfied: pyparsing in c:\\users\\dell\\anaconda3\\lib\\site-packages (from piglet-templates->piglet) (2.4.7)\n",
      "Requirement already satisfied: wheel<1.0,>=0.23.0 in c:\\users\\dell\\anaconda3\\lib\\site-packages (from astunparse->piglet-templates->piglet) (0.36.2)\n",
      "Requirement already satisfied: six<2.0,>=1.6.1 in c:\\users\\dell\\anaconda3\\lib\\site-packages (from astunparse->piglet-templates->piglet) (1.15.0)\n",
      "Note: you may need to restart the kernel to use updated packages.\n",
      "Installing collected packages: piglet\n",
      "Successfully installed piglet-1.0.0\n"
     ]
    }
   ],
   "source": [
    "pip install piglet"
   ]
  },
  {
   "cell_type": "code",
   "execution_count": 7,
   "id": "4d573884",
   "metadata": {},
   "outputs": [
    {
     "name": "stdout",
     "output_type": "stream",
     "text": [
      "Collecting pyglet\n",
      "  Using cached pyglet-1.5.21-py3-none-any.whl (1.1 MB)\n",
      "Installing collected packages: pyglet\n",
      "Successfully installed pyglet-1.5.21\n",
      "Note: you may need to restart the kernel to use updated packages.\n"
     ]
    }
   ],
   "source": [
    "pip install pyglet"
   ]
  },
  {
   "cell_type": "code",
   "execution_count": 13,
   "id": "48d606ae",
   "metadata": {},
   "outputs": [
    {
     "name": "stdout",
     "output_type": "stream",
     "text": [
      "Requirement already satisfied: tensorflow==2.3.1 in c:\\users\\dell\\anaconda3\\lib\\site-packages (2.3.1)\n",
      "Requirement already satisfied: gym in c:\\users\\dell\\anaconda3\\lib\\site-packages (0.19.0)\n",
      "Requirement already satisfied: keras-rl2 in c:\\users\\dell\\appdata\\roaming\\python\\python38\\site-packages (1.0.5)\n",
      "Requirement already satisfied: protobuf>=3.9.2 in c:\\users\\dell\\anaconda3\\lib\\site-packages (from tensorflow==2.3.1) (3.11.2)\n",
      "Requirement already satisfied: tensorflow-estimator<2.4.0,>=2.3.0 in c:\\users\\dell\\anaconda3\\lib\\site-packages (from tensorflow==2.3.1) (2.3.0)\n",
      "Requirement already satisfied: wheel>=0.26 in c:\\users\\dell\\anaconda3\\lib\\site-packages (from tensorflow==2.3.1) (0.36.2)\n",
      "Requirement already satisfied: grpcio>=1.8.6 in c:\\users\\dell\\anaconda3\\lib\\site-packages (from tensorflow==2.3.1) (1.36.1)\n",
      "Requirement already satisfied: numpy<1.19.0,>=1.16.0 in c:\\users\\dell\\anaconda3\\lib\\site-packages (from tensorflow==2.3.1) (1.18.5)\n",
      "Requirement already satisfied: absl-py>=0.7.0 in c:\\users\\dell\\anaconda3\\lib\\site-packages (from tensorflow==2.3.1) (0.13.0)\n",
      "Requirement already satisfied: wrapt>=1.11.1 in c:\\users\\dell\\anaconda3\\lib\\site-packages (from tensorflow==2.3.1) (1.12.1)\n",
      "Requirement already satisfied: google-pasta>=0.1.8 in c:\\users\\dell\\anaconda3\\lib\\site-packages (from tensorflow==2.3.1) (0.2.0)\n",
      "Requirement already satisfied: termcolor>=1.1.0 in c:\\users\\dell\\anaconda3\\lib\\site-packages (from tensorflow==2.3.1) (1.1.0)\n",
      "Requirement already satisfied: gast==0.3.3 in c:\\users\\dell\\anaconda3\\lib\\site-packages (from tensorflow==2.3.1) (0.3.3)\n",
      "Requirement already satisfied: h5py<2.11.0,>=2.10.0 in c:\\users\\dell\\anaconda3\\lib\\site-packages (from tensorflow==2.3.1) (2.10.0)\n",
      "Requirement already satisfied: tensorboard<3,>=2.3.0 in c:\\users\\dell\\anaconda3\\lib\\site-packages (from tensorflow==2.3.1) (2.4.0)\n",
      "Requirement already satisfied: keras-preprocessing<1.2,>=1.1.1 in c:\\users\\dell\\anaconda3\\lib\\site-packages (from tensorflow==2.3.1) (1.1.2)\n",
      "Requirement already satisfied: opt-einsum>=2.3.2 in c:\\users\\dell\\anaconda3\\lib\\site-packages (from tensorflow==2.3.1) (3.3.0)\n",
      "Requirement already satisfied: astunparse==1.6.3 in c:\\users\\dell\\anaconda3\\lib\\site-packages (from tensorflow==2.3.1) (1.6.3)\n",
      "Requirement already satisfied: six>=1.12.0 in c:\\users\\dell\\anaconda3\\lib\\site-packages (from tensorflow==2.3.1) (1.15.0)\n",
      "Requirement already satisfied: setuptools in c:\\users\\dell\\anaconda3\\lib\\site-packages (from protobuf>=3.9.2->tensorflow==2.3.1) (52.0.0.post20210125)\n",
      "Requirement already satisfied: google-auth-oauthlib<0.5,>=0.4.1 in c:\\users\\dell\\anaconda3\\lib\\site-packages (from tensorboard<3,>=2.3.0->tensorflow==2.3.1) (0.4.4)\n",
      "Requirement already satisfied: werkzeug>=0.11.15 in c:\\users\\dell\\anaconda3\\lib\\site-packages (from tensorboard<3,>=2.3.0->tensorflow==2.3.1) (1.0.1)\n",
      "Requirement already satisfied: requests<3,>=2.21.0 in c:\\users\\dell\\anaconda3\\lib\\site-packages (from tensorboard<3,>=2.3.0->tensorflow==2.3.1) (2.25.1)\n",
      "Requirement already satisfied: markdown>=2.6.8 in c:\\users\\dell\\anaconda3\\lib\\site-packages (from tensorboard<3,>=2.3.0->tensorflow==2.3.1) (3.3.4)\n",
      "Requirement already satisfied: tensorboard-plugin-wit>=1.6.0 in c:\\users\\dell\\anaconda3\\lib\\site-packages (from tensorboard<3,>=2.3.0->tensorflow==2.3.1) (1.6.0)\n",
      "Requirement already satisfied: google-auth<2,>=1.6.3 in c:\\users\\dell\\anaconda3\\lib\\site-packages (from tensorboard<3,>=2.3.0->tensorflow==2.3.1) (1.21.3)\n",
      "Requirement already satisfied: pyasn1-modules>=0.2.1 in c:\\users\\dell\\anaconda3\\lib\\site-packages (from google-auth<2,>=1.6.3->tensorboard<3,>=2.3.0->tensorflow==2.3.1) (0.2.8)\n",
      "Requirement already satisfied: rsa<5,>=3.1.4 in c:\\users\\dell\\anaconda3\\lib\\site-packages (from google-auth<2,>=1.6.3->tensorboard<3,>=2.3.0->tensorflow==2.3.1) (4.7.2)\n",
      "Requirement already satisfied: cachetools<5.0,>=2.0.0 in c:\\users\\dell\\anaconda3\\lib\\site-packages (from google-auth<2,>=1.6.3->tensorboard<3,>=2.3.0->tensorflow==2.3.1) (4.2.2)\n",
      "Requirement already satisfied: requests-oauthlib>=0.7.0 in c:\\users\\dell\\anaconda3\\lib\\site-packages (from google-auth-oauthlib<0.5,>=0.4.1->tensorboard<3,>=2.3.0->tensorflow==2.3.1) (1.3.0)\n",
      "Requirement already satisfied: pyasn1<0.5.0,>=0.4.6 in c:\\users\\dell\\anaconda3\\lib\\site-packages (from pyasn1-modules>=0.2.1->google-auth<2,>=1.6.3->tensorboard<3,>=2.3.0->tensorflow==2.3.1) (0.4.8)\n",
      "Requirement already satisfied: idna<3,>=2.5 in c:\\users\\dell\\anaconda3\\lib\\site-packages (from requests<3,>=2.21.0->tensorboard<3,>=2.3.0->tensorflow==2.3.1) (2.10)\n",
      "Requirement already satisfied: chardet<5,>=3.0.2 in c:\\users\\dell\\anaconda3\\lib\\site-packages (from requests<3,>=2.21.0->tensorboard<3,>=2.3.0->tensorflow==2.3.1) (4.0.0)\n",
      "Requirement already satisfied: certifi>=2017.4.17 in c:\\users\\dell\\anaconda3\\lib\\site-packages (from requests<3,>=2.21.0->tensorboard<3,>=2.3.0->tensorflow==2.3.1) (2020.12.5)\n",
      "Requirement already satisfied: urllib3<1.27,>=1.21.1 in c:\\users\\dell\\anaconda3\\lib\\site-packages (from requests<3,>=2.21.0->tensorboard<3,>=2.3.0->tensorflow==2.3.1) (1.26.4)\n",
      "Requirement already satisfied: oauthlib>=3.0.0 in c:\\users\\dell\\anaconda3\\lib\\site-packages (from requests-oauthlib>=0.7.0->google-auth-oauthlib<0.5,>=0.4.1->tensorboard<3,>=2.3.0->tensorflow==2.3.1) (3.1.1)\n",
      "Requirement already satisfied: cloudpickle<1.7.0,>=1.2.0 in c:\\users\\dell\\anaconda3\\lib\\site-packages (from gym) (1.6.0)\n",
      "Requirement already satisfied: opencv-python>=3. in c:\\users\\dell\\appdata\\roaming\\python\\python38\\site-packages (from gym) (4.5.4.60)\n",
      "Collecting atari-py==0.2.6\n",
      "  Using cached atari_py-0.2.6-cp38-cp38-win_amd64.whl\n",
      "Installing collected packages: atari-py\n",
      "Successfully installed atari-py-0.2.6\n"
     ]
    },
    {
     "name": "stderr",
     "output_type": "stream",
     "text": [
      "WARNING: The candidate selected for download or install is a yanked version: 'atari-py' candidate (version 0.2.6 at https://files.pythonhosted.org/packages/43/dd/2721f34a89dc520d2e09363fd23d110a33bbab2399e50fdced6eb2ed2157/atari-py-0.2.6.tar.gz#sha256=6249ad5079b0489e87eb44e65485bb1b07cc1b5af729f1ee52ece749503ceb1d (from https://pypi.org/simple/atari-py/))\n",
      "Reason for being yanked: re-release with new wheels\n"
     ]
    }
   ],
   "source": [
    "!pip install --user tensorflow==2.3.1 gym keras-rl2 gym[atari]"
   ]
  },
  {
   "cell_type": "code",
   "execution_count": 2,
   "id": "ce62bbdf",
   "metadata": {},
   "outputs": [],
   "source": [
    "import gym \n",
    "import random"
   ]
  },
  {
   "cell_type": "markdown",
   "id": "29fb92e4",
   "metadata": {},
   "source": [
    "Creating an environment"
   ]
  },
  {
   "cell_type": "code",
   "execution_count": 3,
   "id": "2432dc4e",
   "metadata": {},
   "outputs": [],
   "source": [
    "env = gym.make('Asterix-v0')\n",
    "height, width, channels = env.observation_space.shape\n",
    "actions = env.action_space.n"
   ]
  },
  {
   "cell_type": "markdown",
   "id": "0fa4422b",
   "metadata": {},
   "source": [
    "Actions"
   ]
  },
  {
   "cell_type": "code",
   "execution_count": 4,
   "id": "45831884",
   "metadata": {},
   "outputs": [
    {
     "data": {
      "text/plain": [
       "['NOOP',\n",
       " 'UP',\n",
       " 'RIGHT',\n",
       " 'LEFT',\n",
       " 'DOWN',\n",
       " 'UPRIGHT',\n",
       " 'UPLEFT',\n",
       " 'DOWNRIGHT',\n",
       " 'DOWNLEFT']"
      ]
     },
     "execution_count": 4,
     "metadata": {},
     "output_type": "execute_result"
    }
   ],
   "source": [
    "env.unwrapped.get_action_meanings()"
   ]
  },
  {
   "cell_type": "markdown",
   "id": "bcc7da21",
   "metadata": {},
   "source": [
    "Now let us run some episodes with random moves"
   ]
  },
  {
   "cell_type": "code",
   "execution_count": 11,
   "id": "d6baf2ae",
   "metadata": {},
   "outputs": [
    {
     "name": "stdout",
     "output_type": "stream",
     "text": [
      "Episode:1 Score:150.0\n",
      "Episode:2 Score:350.0\n",
      "Episode:3 Score:300.0\n",
      "Episode:4 Score:250.0\n",
      "Episode:5 Score:250.0\n"
     ]
    }
   ],
   "source": [
    "episodes = 5\n",
    "for episode in range(1, episodes+1):\n",
    "    state = env.reset()\n",
    "    done = False\n",
    "    score = 0 \n",
    "    \n",
    "    while not done:\n",
    "        env.render()\n",
    "        action = random.choice([0,1,2,3,4,5])\n",
    "        n_state, reward, done, info = env.step(action)\n",
    "        score+=reward\n",
    "    print('Episode:{} Score:{}'.format(episode, score))\n",
    "env.close()"
   ]
  },
  {
   "cell_type": "markdown",
   "id": "a3aa4014",
   "metadata": {},
   "source": [
    "Creating a deep learning model"
   ]
  },
  {
   "cell_type": "code",
   "execution_count": 12,
   "id": "a33235b0",
   "metadata": {},
   "outputs": [],
   "source": [
    "import numpy as np\n",
    "from tensorflow.keras.models import Sequential\n",
    "from tensorflow.keras.layers import Dense, Flatten, Convolution2D\n",
    "from tensorflow.keras.optimizers import Adam"
   ]
  },
  {
   "cell_type": "code",
   "execution_count": 13,
   "id": "7f279c16",
   "metadata": {},
   "outputs": [],
   "source": [
    "def new_model(height, width, channels, actions):\n",
    "    mod = Sequential()\n",
    "    mod.add(Convolution2D(32, (8,8), strides=(4,4), activation='relu', input_shape=(3,height, width, channels)))\n",
    "    mod.add(Convolution2D(64, (4,4), strides=(2,2), activation='relu'))\n",
    "    mod.add(Convolution2D(64, (3,3), activation='relu'))\n",
    "    mod.add(Flatten())\n",
    "    mod.add(Dense(512, activation='relu'))\n",
    "    mod.add(Dense(256, activation='relu'))\n",
    "    mod.add(Dense(actions, activation='linear'))\n",
    "    return mod"
   ]
  },
  {
   "cell_type": "code",
   "execution_count": 20,
   "id": "4c75989b",
   "metadata": {},
   "outputs": [],
   "source": [
    "del mod"
   ]
  },
  {
   "cell_type": "code",
   "execution_count": 21,
   "id": "53f6c0dd",
   "metadata": {},
   "outputs": [],
   "source": [
    "mod = new_model(height, width, channels, actions)"
   ]
  },
  {
   "cell_type": "code",
   "execution_count": 22,
   "id": "229b1692",
   "metadata": {},
   "outputs": [
    {
     "name": "stdout",
     "output_type": "stream",
     "text": [
      "Model: \"sequential_2\"\n",
      "_________________________________________________________________\n",
      "Layer (type)                 Output Shape              Param #   \n",
      "=================================================================\n",
      "conv2d_6 (Conv2D)            (None, 3, 51, 39, 32)     6176      \n",
      "_________________________________________________________________\n",
      "conv2d_7 (Conv2D)            (None, 3, 24, 18, 64)     32832     \n",
      "_________________________________________________________________\n",
      "conv2d_8 (Conv2D)            (None, 3, 22, 16, 64)     36928     \n",
      "_________________________________________________________________\n",
      "flatten_2 (Flatten)          (None, 67584)             0         \n",
      "_________________________________________________________________\n",
      "dense_7 (Dense)              (None, 512)               34603520  \n",
      "_________________________________________________________________\n",
      "dense_8 (Dense)              (None, 256)               131328    \n",
      "_________________________________________________________________\n",
      "dense_9 (Dense)              (None, 9)                 2313      \n",
      "=================================================================\n",
      "Total params: 34,813,097\n",
      "Trainable params: 34,813,097\n",
      "Non-trainable params: 0\n",
      "_________________________________________________________________\n"
     ]
    }
   ],
   "source": [
    "mod.summary()"
   ]
  },
  {
   "cell_type": "markdown",
   "id": "7eea74e0",
   "metadata": {},
   "source": [
    "Building an agent"
   ]
  },
  {
   "cell_type": "code",
   "execution_count": 14,
   "id": "77e9efc6",
   "metadata": {},
   "outputs": [
    {
     "name": "stdout",
     "output_type": "stream",
     "text": [
      "Requirement already satisfied: keras-rl in c:\\users\\dell\\anaconda3\\lib\\site-packages (0.4.2)\n",
      "Requirement already satisfied: keras>=2.0.7 in c:\\users\\dell\\anaconda3\\lib\\site-packages (from keras-rl) (2.4.3)\n",
      "Requirement already satisfied: h5py in c:\\users\\dell\\anaconda3\\lib\\site-packages (from keras>=2.0.7->keras-rl) (2.10.0)\n",
      "Requirement already satisfied: numpy>=1.9.1 in c:\\users\\dell\\anaconda3\\lib\\site-packages (from keras>=2.0.7->keras-rl) (1.18.5)\n",
      "Requirement already satisfied: scipy>=0.14 in c:\\users\\dell\\anaconda3\\lib\\site-packages (from keras>=2.0.7->keras-rl) (1.6.2)\n",
      "Requirement already satisfied: pyyaml in c:\\users\\dell\\anaconda3\\lib\\site-packages (from keras>=2.0.7->keras-rl) (5.4.1)\n",
      "Requirement already satisfied: six in c:\\users\\dell\\anaconda3\\lib\\site-packages (from h5py->keras>=2.0.7->keras-rl) (1.15.0)\n",
      "Note: you may need to restart the kernel to use updated packages.\n"
     ]
    }
   ],
   "source": [
    "pip install keras-rl"
   ]
  },
  {
   "cell_type": "code",
   "execution_count": 23,
   "id": "a2c266f2",
   "metadata": {},
   "outputs": [],
   "source": [
    "from rl.agents import DQNAgent\n",
    "from rl.memory import SequentialMemory\n",
    "from rl.policy import LinearAnnealedPolicy, EpsGreedyQPolicy"
   ]
  },
  {
   "cell_type": "code",
   "execution_count": 24,
   "id": "bbd80642",
   "metadata": {},
   "outputs": [],
   "source": [
    "def new_agent(model, actions):\n",
    "    policy = LinearAnnealedPolicy(EpsGreedyQPolicy(), attr='eps', value_max=1., value_min=.1, value_test=.2, nb_steps=10000)\n",
    "    memory = SequentialMemory(limit=1000, window_length=3)\n",
    "    dqn_agent = DQNAgent(model=model, memory=memory, policy=policy,\n",
    "                  enable_dueling_network=True, dueling_type='avg', \n",
    "                   nb_actions=actions, nb_steps_warmup=1000\n",
    "                  )\n",
    "    return dqn_agent"
   ]
  },
  {
   "cell_type": "code",
   "execution_count": 26,
   "id": "f3060486",
   "metadata": {},
   "outputs": [],
   "source": [
    "dqn_agent = new_agent(mod, actions)\n",
    "dqn_agent.compile(Adam(lr=1e-4))"
   ]
  },
  {
   "cell_type": "code",
   "execution_count": 28,
   "id": "01ffea18",
   "metadata": {},
   "outputs": [
    {
     "name": "stdout",
     "output_type": "stream",
     "text": [
      "Training for 5000 steps ...\n",
      "WARNING:tensorflow:From C:\\Users\\Dell\\anaconda3\\lib\\site-packages\\tensorflow\\python\\keras\\engine\\training_v1.py:2070: Model.state_updates (from tensorflow.python.keras.engine.training) is deprecated and will be removed in a future version.\n",
      "Instructions for updating:\n",
      "This property should not be used in TensorFlow 2.0, as updates are applied automatically.\n",
      "  422/5000: episode: 1, duration: 13.361s, episode steps: 422, steps per second:  32, episode reward: 250.000, mean reward:  0.592 [ 0.000, 50.000], mean action: 3.898 [0.000, 8.000],  loss: --, mean_q: --, mean_eps: --\n",
      "  882/5000: episode: 2, duration: 14.131s, episode steps: 460, steps per second:  33, episode reward: 300.000, mean reward:  0.652 [ 0.000, 50.000], mean action: 3.865 [0.000, 8.000],  loss: --, mean_q: --, mean_eps: --\n",
      " 1170/5000: episode: 3, duration: 217.315s, episode steps: 288, steps per second:   1, episode reward: 150.000, mean reward:  0.521 [ 0.000, 50.000], mean action: 4.066 [0.000, 8.000],  loss: 95.556266, mean_q: 37.515407, mean_eps: 0.902350\n",
      " 1467/5000: episode: 4, duration: 392.690s, episode steps: 297, steps per second:   1, episode reward: 200.000, mean reward:  0.673 [ 0.000, 50.000], mean action: 3.976 [0.000, 8.000],  loss: 7.535140, mean_q: 34.674100, mean_eps: 0.881380\n",
      " 1808/5000: episode: 5, duration: 430.626s, episode steps: 341, steps per second:   1, episode reward: 250.000, mean reward:  0.733 [ 0.000, 50.000], mean action: 4.050 [0.000, 8.000],  loss: 4.262213, mean_q: 34.261121, mean_eps: 0.852670\n",
      " 2088/5000: episode: 6, duration: 351.262s, episode steps: 280, steps per second:   1, episode reward: 200.000, mean reward:  0.714 [ 0.000, 50.000], mean action: 4.325 [0.000, 8.000],  loss: 3.740953, mean_q: 33.481051, mean_eps: 0.824725\n",
      " 2362/5000: episode: 7, duration: 329.636s, episode steps: 274, steps per second:   1, episode reward: 100.000, mean reward:  0.365 [ 0.000, 50.000], mean action: 4.314 [0.000, 8.000],  loss: 2.952650, mean_q: 33.235834, mean_eps: 0.799795\n",
      " 2825/5000: episode: 8, duration: 542.627s, episode steps: 463, steps per second:   1, episode reward: 550.000, mean reward:  1.188 [ 0.000, 50.000], mean action: 4.108 [0.000, 8.000],  loss: 6.136614, mean_q: 34.096440, mean_eps: 0.766630\n",
      " 3090/5000: episode: 9, duration: 309.176s, episode steps: 265, steps per second:   1, episode reward: 150.000, mean reward:  0.566 [ 0.000, 50.000], mean action: 4.208 [0.000, 8.000],  loss: 3.015787, mean_q: 34.853047, mean_eps: 0.733870\n",
      " 3522/5000: episode: 10, duration: 502.395s, episode steps: 432, steps per second:   1, episode reward: 500.000, mean reward:  1.157 [ 0.000, 50.000], mean action: 4.229 [0.000, 8.000],  loss: 3.949668, mean_q: 35.434337, mean_eps: 0.702505\n",
      " 3815/5000: episode: 11, duration: 344.003s, episode steps: 293, steps per second:   1, episode reward: 250.000, mean reward:  0.853 [ 0.000, 50.000], mean action: 4.290 [0.000, 8.000],  loss: 2.820363, mean_q: 34.633436, mean_eps: 0.669880\n",
      " 4323/5000: episode: 12, duration: 594.408s, episode steps: 508, steps per second:   1, episode reward: 550.000, mean reward:  1.083 [ 0.000, 100.000], mean action: 4.297 [0.000, 8.000],  loss: 4.039639, mean_q: 34.336582, mean_eps: 0.633835\n",
      " 4634/5000: episode: 13, duration: 365.236s, episode steps: 311, steps per second:   1, episode reward: 250.000, mean reward:  0.804 [ 0.000, 50.000], mean action: 4.215 [0.000, 8.000],  loss: 3.112805, mean_q: 33.716424, mean_eps: 0.596980\n",
      " 4962/5000: episode: 14, duration: 382.953s, episode steps: 328, steps per second:   1, episode reward: 300.000, mean reward:  0.915 [ 0.000, 50.000], mean action: 4.171 [0.000, 8.000],  loss: 3.315253, mean_q: 33.761557, mean_eps: 0.568225\n",
      "done, took 4834.227 seconds\n"
     ]
    },
    {
     "data": {
      "text/plain": [
       "<tensorflow.python.keras.callbacks.History at 0x23580048970>"
      ]
     },
     "execution_count": 28,
     "metadata": {},
     "output_type": "execute_result"
    }
   ],
   "source": [
    "dqn_agent.fit(env, nb_steps=5000, visualize=False, verbose=2)"
   ]
  },
  {
   "cell_type": "code",
   "execution_count": null,
   "id": "a94c7a44",
   "metadata": {},
   "outputs": [],
   "source": []
  },
  {
   "cell_type": "code",
   "execution_count": 29,
   "id": "d7055ed0",
   "metadata": {},
   "outputs": [
    {
     "name": "stdout",
     "output_type": "stream",
     "text": [
      "Testing for 10 episodes ...\n",
      "Episode 1: reward: 150.000, steps: 249\n",
      "Episode 2: reward: 300.000, steps: 329\n",
      "Episode 3: reward: 150.000, steps: 259\n",
      "Episode 4: reward: 150.000, steps: 362\n",
      "Episode 5: reward: 500.000, steps: 468\n",
      "Episode 6: reward: 300.000, steps: 441\n",
      "Episode 7: reward: 150.000, steps: 313\n",
      "Episode 8: reward: 400.000, steps: 335\n",
      "Episode 9: reward: 250.000, steps: 361\n",
      "Episode 10: reward: 400.000, steps: 361\n",
      "275.0\n"
     ]
    }
   ],
   "source": [
    "reward = dqn_agent.test(env, nb_episodes=10, visualize=True)\n",
    "print(np.mean(reward.history['episode_reward']))  "
   ]
  },
  {
   "cell_type": "code",
   "execution_count": 31,
   "id": "63b8c117",
   "metadata": {},
   "outputs": [
    {
     "name": "stdout",
     "output_type": "stream",
     "text": [
      "[WARNING] D:\\Aberdeen\\Applied Artificial Intelligence\\weightsave5000.index already exists - overwrite? [y/n]y\n",
      "[TIP] Next time specify overwrite=True!\n"
     ]
    }
   ],
   "source": [
    "dqn_agent.save_weights('D:\\Aberdeen\\Applied Artificial Intelligence\\weightsave5000')\n",
    "dqn_agent.load_weights('D:\\Aberdeen\\Applied Artificial Intelligence\\weightsave5000')"
   ]
  },
  {
   "cell_type": "markdown",
   "id": "c86e26fc",
   "metadata": {},
   "source": [
    "Referemces:\n",
    "    https://github.com/nicknochnack/KerasRL-OpenAI-Atari-SpaceInvadersv0"
   ]
  },
  {
   "cell_type": "code",
   "execution_count": null,
   "id": "07e56db2",
   "metadata": {},
   "outputs": [],
   "source": []
  }
 ],
 "metadata": {
  "kernelspec": {
   "display_name": "Python 3",
   "language": "python",
   "name": "python3"
  },
  "language_info": {
   "codemirror_mode": {
    "name": "ipython",
    "version": 3
   },
   "file_extension": ".py",
   "mimetype": "text/x-python",
   "name": "python",
   "nbconvert_exporter": "python",
   "pygments_lexer": "ipython3",
   "version": "3.8.8"
  }
 },
 "nbformat": 4,
 "nbformat_minor": 5
}
